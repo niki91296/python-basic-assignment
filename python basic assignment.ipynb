{
 "cells": [
  {
   "cell_type": "code",
   "execution_count": 1,
   "id": "dfbcbd2e-9142-4278-8334-95139614be3e",
   "metadata": {},
   "outputs": [
    {
     "name": "stdout",
     "output_type": "stream",
     "text": [
      "Hello! Welcome to the world of python\n"
     ]
    }
   ],
   "source": [
    "#date 29/01/2025\n",
    "vname=(\"Hello! Welcome to the world of python\")\n",
    "print(vname)"
   ]
  },
  {
   "cell_type": "code",
   "execution_count": 2,
   "id": "792b4414-b2de-4762-9bdf-1a0d8de65436",
   "metadata": {},
   "outputs": [
    {
     "name": "stdout",
     "output_type": "stream",
     "text": [
      "Hello! Welcome to the world of python\n",
      "Python is a high level programming language\n"
     ]
    }
   ],
   "source": [
    "vname=(\"Hello! Welcome to the world of python\")\n",
    "print(vname)\n",
    "vname=(\"Python is a high level programming language\")\n",
    "print(vname)"
   ]
  },
  {
   "cell_type": "code",
   "execution_count": 18,
   "id": "6ab8bb72-fc49-4ce0-ba6e-8ad952af7bf0",
   "metadata": {},
   "outputs": [
    {
     "name": "stdout",
     "output_type": "stream",
     "text": [
      "Hello Mishika How Are You?\n"
     ]
    }
   ],
   "source": [
    "#My name is Niki... Date 29/01/2025\n",
    "name=\"Mishika\"\n",
    "print(\"Hello \"+name+\" How Are You?\")"
   ]
  },
  {
   "cell_type": "code",
   "execution_count": 7,
   "id": "bcb5c0a8-e9d2-4b4d-bc98-3e83883b1c1b",
   "metadata": {},
   "outputs": [
    {
     "name": "stdout",
     "output_type": "stream",
     "text": [
      "Ratan Tata Once Said The only way to win is to not be afraid of losing.\n"
     ]
    }
   ],
   "source": [
    "personname=\"Ratan Tata\"\n",
    "quote=\"The only way to win is to not be afraid of losing.\"\n",
    "print(personname + \" Once Said \" + quote)\n"
   ]
  },
  {
   "cell_type": "code",
   "execution_count": 9,
   "id": "69ed2586-6108-4e46-8314-a4beb2be0060",
   "metadata": {},
   "outputs": [
    {
     "name": "stdout",
     "output_type": "stream",
     "text": [
      "Ratan Tata Once Said The only way to win is to not be afraid of losing.\n"
     ]
    }
   ],
   "source": [
    "famous_person = \"Ratan Tata\"\n",
    "message= \"The only way to win is to not be afraid of losing.\"\n",
    "quote = famous_person + ' Once Said ' + message\n",
    "print(quote)\n"
   ]
  },
  {
   "cell_type": "code",
   "execution_count": 16,
   "id": "ce6b9c12-0148-41f6-a49a-2bc8d247b8e8",
   "metadata": {},
   "outputs": [
    {
     "name": "stdout",
     "output_type": "stream",
     "text": [
      "8\n",
      "8\n",
      "8\n",
      "8.0\n"
     ]
    }
   ],
   "source": [
    "# Addition, Subtraction, Multiplication, Division\n",
    "print(4+4)\n",
    "print(10-2)\n",
    "print(4*2)\n",
    "print(16/2)"
   ]
  },
  {
   "cell_type": "code",
   "execution_count": 21,
   "id": "a23e13fe-6474-42ef-a599-8bc205ce8454",
   "metadata": {},
   "outputs": [
    {
     "name": "stdout",
     "output_type": "stream",
     "text": [
      "favourite number is 5.\n"
     ]
    }
   ],
   "source": [
    "num= 5\n",
    "fav_num = \"favourite number is \" + str(num) + \".\"\n",
    "print(fav_num)"
   ]
  },
  {
   "cell_type": "code",
   "execution_count": 25,
   "id": "adab0ff7-ac41-4e22-91ef-6417be3f0f31",
   "metadata": {},
   "outputs": [
    {
     "name": "stdout",
     "output_type": "stream",
     "text": [
      "Mishika\n",
      "Saachi\n",
      "Yansh\n",
      "Siya\n"
     ]
    }
   ],
   "source": [
    "name=(\"Mishika\",\"Saachi\",\"Yansh\", \"Siya\")\n",
    "print(name[0])\n",
    "print(name[1])\n",
    "print(name[2])\n",
    "print(name[3])"
   ]
  },
  {
   "cell_type": "code",
   "execution_count": null,
   "id": "0df4e605-9a93-41b2-a681-c1bed0443bad",
   "metadata": {},
   "outputs": [],
   "source": []
  }
 ],
 "metadata": {
  "kernelspec": {
   "display_name": "Python 3 (ipykernel)",
   "language": "python",
   "name": "python3"
  },
  "language_info": {
   "codemirror_mode": {
    "name": "ipython",
    "version": 3
   },
   "file_extension": ".py",
   "mimetype": "text/x-python",
   "name": "python",
   "nbconvert_exporter": "python",
   "pygments_lexer": "ipython3",
   "version": "3.12.7"
  }
 },
 "nbformat": 4,
 "nbformat_minor": 5
}
